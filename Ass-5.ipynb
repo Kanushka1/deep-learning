{
 "cells": [
  {
   "cell_type": "markdown",
   "id": "7e328feb",
   "metadata": {},
   "source": [
    "# one_hot_enocding(not mentioned in syllabus)"
   ]
  },
  {
   "cell_type": "code",
   "execution_count": null,
   "id": "fc172842",
   "metadata": {},
   "outputs": [],
   "source": [
    "import pandas as pd \n",
    "df = pd.DataFrame({\"col1\": [\"red\", \"Sun\", \"Moon\", \"Earth\", \"Moon\", \"Venus\"]})\n",
    "print(\"The original data\\n\")\n",
    "print(df)\n",
    "print(\"___________________________________________________________________\\n\")\n",
    "df_new = pd.get_dummies(df, columns=[\"col1\"], prefix=\"Planet\")\n",
    "print(f\"The transform data using get_dummies \\n\\n {df_new}\")"
   ]
  },
  {
   "cell_type": "markdown",
   "id": "741ae558",
   "metadata": {},
   "source": [
    "# Word To Vector"
   ]
  },
  {
   "cell_type": "code",
   "execution_count": null,
   "id": "a68b01b9",
   "metadata": {},
   "outputs": [],
   "source": [
    "#A.Data preparation\n",
    "from gensim.models import Word2Vec\n",
    "import nltk\n",
    "from nltk.corpus import brown"
   ]
  },
  {
   "cell_type": "code",
   "execution_count": null,
   "id": "cee91678",
   "metadata": {},
   "outputs": [],
   "source": [
    "#B.Generate training data\n",
    "nltk.download('brown') \n",
    "data = brown.sents()  # Use the Brown corpus from NLTK as sample data"
   ]
  },
  {
   "cell_type": "code",
   "execution_count": null,
   "id": "9e9500db",
   "metadata": {},
   "outputs": [],
   "source": [
    "#C.Train model\n",
    "model = Word2Vec(data, min_count=1,  window=5)   # CBOW model using the gensim library's Word2Vec\n",
    "model.train(data, total_examples=len(data), epochs=5) # Model is trained on the data with a specified number of epochs\n",
    "print(data)\n",
    "word_vectors = model.wv  \n",
    "#D.Output\n",
    "similarity = word_vectors.similarity('woman', 'man')\n",
    "print(f\"Similarity between 'woman' and 'man': {similarity}\") "
   ]
  },
  {
   "cell_type": "markdown",
   "id": "c00bc5f1",
   "metadata": {},
   "source": [
    "# NLP(not mentioned in syllabus)"
   ]
  },
  {
   "cell_type": "code",
   "execution_count": null,
   "id": "6da71fd0",
   "metadata": {},
   "outputs": [],
   "source": [
    "import tensorflow as tf\n",
    "from tensorflow.keras.models import Sequential\n",
    "from tensorflow.keras.layers import Embedding, LSTM, Dense\n",
    "from tensorflow.keras.preprocessing.text import Tokenizer\n",
    "from tensorflow.keras.preprocessing.sequence import pad_sequences\n",
    "import numpy as np\n",
    "import regex as re"
   ]
  },
  {
   "cell_type": "code",
   "execution_count": null,
   "id": "aa65c7e9",
   "metadata": {},
   "outputs": [],
   "source": [
    "def file_to_sentence_list(file_path):\n",
    "\twith open(file_path, 'r') as file:\n",
    "\t\ttext = file.read()\n",
    "\tsentences = [sentence.strip() for sentence in re.split(r'(?<=[.!?])\\s+', text) if sentence.strip()]\n",
    "\treturn sentences\n",
    "\n",
    "file_path = r'C:\\Users\\DELL\\Desktop\\DL\\DL\\PR 5 DL\\Word_Predication\\pizza.txt'\n",
    "text_data = file_to_sentence_list(file_path)\n",
    "\n",
    "# Tokenize the text data\n",
    "tokenizer = Tokenizer()\n",
    "tokenizer.fit_on_texts(text_data)\n",
    "total_words = len(tokenizer.word_index) + 1\n",
    "\n",
    "# Create input sequences\n",
    "input_sequences = []\n",
    "for line in text_data:\n",
    "\ttoken_list = tokenizer.texts_to_sequences([line])[0]\n",
    "\tfor i in range(1, len(token_list)):\n",
    "\t\tn_gram_sequence = token_list[:i+1]\n",
    "\t\tinput_sequences.append(n_gram_sequence)\n",
    "\n",
    "# Pad sequences and split into predictors and label\n",
    "max_sequence_len = max([len(seq) for seq in input_sequences])\n",
    "input_sequences = np.array(pad_sequences(\n",
    "\tinput_sequences, maxlen=max_sequence_len, padding='pre'))\n",
    "X, y = input_sequences[:, :-1], input_sequences[:, -1]\n",
    "\n",
    "# Convert target data to one-hot encoding\n",
    "y = tf.keras.utils.to_categorical(y, num_classes=total_words)"
   ]
  },
  {
   "cell_type": "code",
   "execution_count": null,
   "id": "d9d491b8",
   "metadata": {},
   "outputs": [],
   "source": [
    "# Define the model\n",
    "model = Sequential()\n",
    "model.add(Embedding(total_words, 10,input_length=max_sequence_len-1))\n",
    "model.add(LSTM(128))\n",
    "model.add(Dense(total_words, activation='softmax'))\n",
    "model.compile(loss='categorical_crossentropy',optimizer='adam', metrics=['accuracy']) \n",
    "# Train the model\n",
    "model.fit(X, y, epochs=150, verbose=1)"
   ]
  },
  {
   "cell_type": "code",
   "execution_count": null,
   "id": "dc301bce",
   "metadata": {},
   "outputs": [],
   "source": [
    "# Generate next word predictions\n",
    "seed_text = \"Pizza\"\n",
    "next_words = 5\n",
    "\n",
    "for _ in range(next_words):\n",
    "\ttoken_list = tokenizer.texts_to_sequences([seed_text])[0]\n",
    "\ttoken_list = pad_sequences(\n",
    "\t\t[token_list], maxlen=max_sequence_len-1, padding='pre')\n",
    "\tpredicted_probs = model.predict(token_list)\n",
    "\tpredicted_word = tokenizer.index_word[np.argmax(predicted_probs)]\n",
    "\tseed_text += \" \" + predicted_word\n",
    "\n",
    "print(\"Next predicted words:\", seed_text)\n",
    "\n"
   ]
  }
 ],
 "metadata": {
  "kernelspec": {
   "display_name": "Python 3 (ipykernel)",
   "language": "python",
   "name": "python3"
  },
  "language_info": {
   "codemirror_mode": {
    "name": "ipython",
    "version": 3
   },
   "file_extension": ".py",
   "mimetype": "text/x-python",
   "name": "python",
   "nbconvert_exporter": "python",
   "pygments_lexer": "ipython3",
   "version": "3.10.9"
  }
 },
 "nbformat": 4,
 "nbformat_minor": 5
}
